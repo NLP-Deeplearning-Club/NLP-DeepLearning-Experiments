{
 "cells": [
  {
   "cell_type": "markdown",
   "metadata": {},
   "source": [
    "# Sentiment Analysis with RNNs"
   ]
  },
  {
   "cell_type": "markdown",
   "metadata": {},
   "source": [
    "### WordVector Model"
   ]
  },
  {
   "cell_type": "code",
   "execution_count": 1,
   "metadata": {
    "collapsed": true
   },
   "outputs": [],
   "source": [
    "import os\n",
    "import sys\n",
    "import numpy as np\n",
    "import _pickle as cPickle\n",
    "import gzip\n",
    "import zipfile"
   ]
  },
  {
   "cell_type": "code",
   "execution_count": 2,
   "metadata": {
    "collapsed": true
   },
   "outputs": [],
   "source": [
    "class WordEmbedding(object):\n",
    "    \n",
    "    def __init__(self, fname):\n",
    "        '''\n",
    "        @fname : String. File path to the zipped wiki word embbeding\n",
    "        '''\n",
    "        with zipfile.ZipFile(fname) as z:\n",
    "            filename = z.namelist()[0]\n",
    "            with z.open(filename) as f:\n",
    "                line = f.readline()\n",
    "                self._dict_size, self._embed_dim = [int(s) for s in line.split()]\n",
    "                self._embedding = np.zeros((self._dict_size, self._embed_dim), dtype=np.float32)\n",
    "                self._word2index = dict()\n",
    "                self._index2word = dict()\n",
    "                for i in range(self._dict_size):\n",
    "                    line = f.readline().split()\n",
    "                    word = line[0].decode('utf-8', 'ignore')\n",
    "                    self._word2index[word] = i\n",
    "                    self._index2word[i] = word\n",
    "                    self._embedding[i] = np.array([float(x) for x in line[1:]])\n",
    "       \n",
    "    # Getters\n",
    "    \n",
    "    def dict_size(self):\n",
    "        return self._dict_size\n",
    "    \n",
    "    def embed_dim(self):\n",
    "        return self._embed_dim\n",
    "    \n",
    "    def words(self):\n",
    "        return self._word2index.keys()\n",
    "    \n",
    "    @property\n",
    "    def embedding(self):\n",
    "        return self._embedding\n",
    "    \n",
    "    def word2index(self, word):\n",
    "        \"\"\"\n",
    "        @word: String. Return word if word exists in index, else return index of 'unknown'\n",
    "        \"\"\" \n",
    "        \n",
    "        if word in self._word2index:\n",
    "            return self._word2index[word]\n",
    "        else:\n",
    "            return self._word2index['unknown']\n",
    "        \n",
    "    def index2word(self, index):\n",
    "        \"\"\"\n",
    "        @index: int. Return word if index is in range\n",
    "        \"\"\"\n",
    "        \n",
    "        assert index > 0 and index < self._dict_size\n",
    "        return self._index2word[index]\n",
    "    \n",
    "    def wordvec(self, word):\n",
    "        '''\n",
    "        @word: String. Return word vector of word if word exists in the dictonary \n",
    "        else return the word embedding of \"unknown\"\n",
    "        '''\n",
    "\n",
    "        idx = self.word2index(word)\n",
    "        return self._embedding[idx]\n",
    "    \n",
    "    @staticmethod\n",
    "    def load(fname):\n",
    "        with open(fname, 'rb') as fin:\n",
    "            return cPickle.load(fin)\n",
    "    \n",
    "    @staticmethod\n",
    "    def save(fname, model):\n",
    "        with open(fname, 'wb') as fout:\n",
    "            cPickle.save(model, fout)\n",
    "                "
   ]
  },
  {
   "cell_type": "markdown",
   "metadata": {},
   "source": [
    "### Preprocessing "
   ]
  },
  {
   "cell_type": "code",
   "execution_count": 3,
   "metadata": {
    "collapsed": true
   },
   "outputs": [],
   "source": [
    "import logging\n",
    "import csv\n",
    "import time\n",
    "import random"
   ]
  },
  {
   "cell_type": "code",
   "execution_count": 4,
   "metadata": {
    "collapsed": true
   },
   "outputs": [],
   "source": [
    "mr_positive_filename = \"./data/rt-polarity.pos\"\n",
    "mr_negative_filename = \"./data/rt-polarity.neg\""
   ]
  },
  {
   "cell_type": "code",
   "execution_count": 5,
   "metadata": {
    "collapsed": true
   },
   "outputs": [],
   "source": [
    "mr_positive_list, mr_negative_list = [], []"
   ]
  },
  {
   "cell_type": "markdown",
   "metadata": {},
   "source": [
    "#### Process Positive File"
   ]
  },
  {
   "cell_type": "code",
   "execution_count": 6,
   "metadata": {
    "collapsed": true
   },
   "outputs": [],
   "source": [
    "with open(mr_positive_filename, 'r', errors='ignore') as fin:\n",
    "    for line in fin:\n",
    "        review = line.lower()\n",
    "        review = review.replace('-', ' ')\n",
    "        review = ''.join([ch for ch in review if ch.isalpha() or ch == ' '])\n",
    "        words = review.split()\n",
    "        words = filter(lambda x : len(x) > 1, words)\n",
    "        review = ' '.join(words)\n",
    "        mr_positive_list.append(review)"
   ]
  },
  {
   "cell_type": "code",
   "execution_count": 7,
   "metadata": {},
   "outputs": [
    {
     "data": {
      "text/plain": [
       "['the rock is destined to be the st centurys new conan and that hes going to make splash even greater than arnold schwarzenegger jean claud van damme or steven segal',\n",
       " 'the gorgeously elaborate continuation of the lord of the rings trilogy is so huge that column of words cannot adequately describe co writerdirector peter jacksons expanded vision of tolkiens middle earth',\n",
       " 'effective but too tepid biopic',\n",
       " 'if you sometimes like to go to the movies to have fun wasabi is good place to start',\n",
       " 'emerges as something rare an issue movie thats so honest and keenly observed that it doesnt feel like one']"
      ]
     },
     "execution_count": 7,
     "metadata": {},
     "output_type": "execute_result"
    }
   ],
   "source": [
    "# Have a look at the data\n",
    "mr_positive_list[:5]"
   ]
  },
  {
   "cell_type": "markdown",
   "metadata": {},
   "source": [
    "#### Process Negative File"
   ]
  },
  {
   "cell_type": "code",
   "execution_count": 8,
   "metadata": {
    "collapsed": true
   },
   "outputs": [],
   "source": [
    "with open(mr_negative_filename, 'r', errors='ignore') as fin:\n",
    "    for line in fin:\n",
    "        review = line.lower()\n",
    "        review = review.replace('-', ' ')\n",
    "        review = ''.join([ch for ch in review if ch.isalpha() or ch ==' '])\n",
    "        words = review.split()\n",
    "        words = filter(lambda x : len(x) > 1, words)\n",
    "        review = ' '.join(words)\n",
    "        mr_negative_list.append(review)"
   ]
  },
  {
   "cell_type": "code",
   "execution_count": 9,
   "metadata": {},
   "outputs": [
    {
     "data": {
      "text/plain": [
       "['simplistic silly and tedious',\n",
       " 'its so laddish and juvenile only teenage boys could possibly find it funny',\n",
       " 'exploitative and largely devoid of the depth or sophistication that would make watching such graphic treatment of the crimes bearable',\n",
       " 'garbus discards the potential for pathological study exhuming instead the skewed melodrama of the circumstantial situation',\n",
       " 'visually flashy but narratively opaque and emotionally vapid exercise in style and mystification']"
      ]
     },
     "execution_count": 9,
     "metadata": {},
     "output_type": "execute_result"
    }
   ],
   "source": [
    "# Have a look at the data\n",
    "mr_negative_list[:5]"
   ]
  },
  {
   "cell_type": "markdown",
   "metadata": {},
   "source": [
    "#### Random Shuffle"
   ]
  },
  {
   "cell_type": "code",
   "execution_count": 10,
   "metadata": {
    "collapsed": true
   },
   "outputs": [],
   "source": [
    "pos_index = list(range(len(mr_positive_list)))\n",
    "neg_index = list(range(len(mr_negative_list)))\n",
    "\n",
    "random.shuffle(pos_index)\n",
    "random.shuffle(neg_index)\n",
    "\n",
    "mr_positive_list = list(map(lambda x: mr_positive_list[x], pos_index))\n",
    "mr_negative_list = list(map(lambda x: mr_negative_list[x], neg_index))"
   ]
  },
  {
   "cell_type": "code",
   "execution_count": 11,
   "metadata": {
    "collapsed": true
   },
   "outputs": [],
   "source": [
    "# Write Shuffled Review into files\n",
    "with open('./data/mr-polarity.pos', 'w') as fout:\n",
    "    for line in mr_positive_list:\n",
    "        fout.write(line+'\\n')\n",
    "with open('./data/mr-polarity.neg', 'w') as fout:\n",
    "    for line in mr_negative_list:\n",
    "        fout.write(line+'\\n')"
   ]
  },
  {
   "cell_type": "markdown",
   "metadata": {},
   "source": [
    "#### Random Merge Positive and Negative Reviews"
   ]
  },
  {
   "cell_type": "code",
   "execution_count": 12,
   "metadata": {
    "collapsed": true
   },
   "outputs": [],
   "source": [
    "# Load the data from files\n",
    "mr_txt, mr_label = [], []\n",
    "with open('./data/mr-polarity.pos', 'r') as fin:\n",
    "    lines = fin.readlines()\n",
    "    mr_txt.extend(lines)\n",
    "    mr_label.extend([1]*len(lines))\n",
    "with open('./data/mr-polarity.neg', 'r') as fin:\n",
    "    lines = fin.readlines()\n",
    "    mr_txt.extend(lines)\n",
    "    mr_label.extend([0]*len(lines)) \n",
    "assert len(mr_txt) == len(mr_label)"
   ]
  },
  {
   "cell_type": "code",
   "execution_count": 13,
   "metadata": {
    "collapsed": true
   },
   "outputs": [],
   "source": [
    "# Random merge the data\n",
    "data_size = len(mr_txt)\n",
    "random_index = np.arange(data_size)\n",
    "np.random.shuffle(random_index)\n",
    "mr_txt = list(np.asarray(mr_txt)[random_index])\n",
    "mr_label = list(np.asarray(mr_label)[random_index])"
   ]
  },
  {
   "cell_type": "markdown",
   "metadata": {},
   "source": [
    "### Build the Training Dataset and Testing Dataset"
   ]
  },
  {
   "cell_type": "code",
   "execution_count": 14,
   "metadata": {
    "collapsed": true
   },
   "outputs": [],
   "source": [
    "# Create word embeddings\n",
    "word_embedding = WordEmbedding('./data/embeddings.zip')"
   ]
  },
  {
   "cell_type": "code",
   "execution_count": 15,
   "metadata": {
    "collapsed": true
   },
   "outputs": [],
   "source": [
    "# Get blank index and word embeddings' dimension\n",
    "embed_dim = word_embedding.embed_dim()\n",
    "blank_index = word_embedding.word2index('</s>')"
   ]
  },
  {
   "cell_type": "markdown",
   "metadata": {},
   "source": [
    "#### Word-vector representation, zero-padding all the sentences to the maximum length."
   ]
  },
  {
   "cell_type": "code",
   "execution_count": 16,
   "metadata": {
    "collapsed": true
   },
   "outputs": [],
   "source": [
    "# start and end positions are '</s>'\n",
    "max_len = 52\n",
    "mr_insts = np.zeros((data_size, max_len, embed_dim), dtype=np.float32)\n",
    "mr_labels = np.asarray(mr_label)[:,np.newaxis]\n",
    "for i, sent in enumerate(mr_txt):\n",
    "    words = sent.split()\n",
    "    words = [word.lower() for word in words]\n",
    "    l = min( len(words), max_len - 2 )\n",
    "    # vectors = np.zeros((len(words)+2, embed_dim), dtype=np.float32)\n",
    "    mr_insts[i, 1: l+1, :] = np.asarray([word_embedding.wordvec(word) for word in words[:l]])\n",
    "    mr_insts[i, 0, :] = mr_insts[i, l+1, :] = word_embedding.wordvec(\"</s>\")"
   ]
  },
  {
   "cell_type": "code",
   "execution_count": 17,
   "metadata": {},
   "outputs": [
    {
     "name": "stdout",
     "output_type": "stream",
     "text": [
      "Positive dataset percentage 0.5.\n",
      "Negative dataset percentage 0.5.\n"
     ]
    }
   ],
   "source": [
    "pos_count = np.sum(mr_label)\n",
    "print('Positive dataset percentage {:.3g}.'.format(pos_count/len(mr_label)))\n",
    "print('Negative dataset percentage {:.3g}.'.format(1-pos_count/len(mr_label)))"
   ]
  },
  {
   "cell_type": "markdown",
   "metadata": {},
   "source": [
    "#### Partition the data -> 0.7 / 0.3"
   ]
  },
  {
   "cell_type": "code",
   "execution_count": 18,
   "metadata": {},
   "outputs": [
    {
     "name": "stderr",
     "output_type": "stream",
     "text": [
      "Using TensorFlow backend.\n"
     ]
    }
   ],
   "source": [
    "from keras.utils import to_categorical\n",
    "\n",
    "num_classes = 2\n",
    "num_train = int(data_size * 0.7)\n",
    "num_test = data_size - num_train\n",
    "\n",
    "train_insts, train_labels = mr_insts[:num_train, :, :], to_categorical(mr_label[:num_train], num_classes)\n",
    "test_insts, test_labels = mr_insts[num_train:, :, :], to_categorical(mr_label[num_train:], num_classes)"
   ]
  },
  {
   "cell_type": "markdown",
   "metadata": {},
   "source": [
    "### Hyper Parameters"
   ]
  },
  {
   "cell_type": "code",
   "execution_count": 62,
   "metadata": {
    "collapsed": true
   },
   "outputs": [],
   "source": [
    "MODEL_TYPE = \"rnn\"\n",
    "ATTENTION = True\n",
    "LEARN_RATE = 0.001\n",
    "BATCH_SIZE = 20\n",
    "INPUT_SHAPE = [max_len, embed_dim]\n",
    "EPOCHE = 10\n",
    "NUM_HIDDEN = 100\n",
    "TIME_STEPS = max_len\n",
    "SINGLE_ATTENTION_VECTOR = False"
   ]
  },
  {
   "cell_type": "markdown",
   "metadata": {},
   "source": [
    "### Build the model without Attention"
   ]
  },
  {
   "cell_type": "code",
   "execution_count": 63,
   "metadata": {},
   "outputs": [],
   "source": [
    "from keras.preprocessing.sequence import pad_sequences\n",
    "from keras.models import Sequential\n",
    "from keras.layers import Dense, LSTM, GRU, SimpleRNN, GlobalAveragePooling1D, AveragePooling1D, Activation\n",
    "from keras.utils import to_categorical\n",
    "\n",
    "from keras.layers import merge\n",
    "from keras.layers.core import *\n",
    "from keras.models import *\n",
    "\n",
    "def build_model():\n",
    "    \n",
    "    if not ATTENTION:\n",
    "        \n",
    "        model = Sequential()\n",
    "        # RNN Layer\n",
    "        if MODEL_TYPE == 'rnn':\n",
    "            model.add(SimpleRNN(NUM_HIDDEN, input_shape=INPUT_SHAPE, return_sequences=True))\n",
    "        elif MODEL_TYPE == 'gru':\n",
    "            model.add(GRU(NUM_HIDDEN, input_shape=INPUT_SHAPE, return_sequences=True))\n",
    "        elif MODEL_TYPE == 'lstm':\n",
    "            model.add(LSTM(NUM_HIDDEN, input_shape=INPUT_SHAPE, return_sequences=True))\n",
    "        else:\n",
    "            raise NameError(\"Unsupported model type\")\n",
    "        # Mean Pooling Layer\n",
    "        model.add(GlobalAveragePooling1D())\n",
    "        # Softmax\n",
    "        model.add(Dense(2, activation='softmax'))\n",
    "        \n",
    "        return model\n",
    "    else:\n",
    "        def attention_3d_block(inputs):\n",
    "            # inputs.shape = (batch_size, time_steps, input_dim)\n",
    "            input_dim = int(inputs.shape[2])\n",
    "            a = Permute((2, 1))(inputs)\n",
    "            a = Reshape((input_dim, TIME_STEPS))(a)\n",
    "            a = Dense(TIME_STEPS, activation='softmax')(a)\n",
    "            if SINGLE_ATTENTION_VECTOR:\n",
    "                a = Lambda(lambda x: K.mean(x, axis=1), name='dim_reduction')(a)\n",
    "                a = RepeatVector(input_dim)(a)\n",
    "            a_probs = Permute((2, 1), name='attention_vec')(a)\n",
    "            output_attention_mul = merge([inputs, a_probs], name='attention_mul', mode='mul')\n",
    "            return output_attention_mul\n",
    "\n",
    "        inputs = Input(shape=INPUT_SHAPE)\n",
    "        # RNN Layer\n",
    "        if MODEL_TYPE == 'rnn':\n",
    "            rnn_out = LSTM(NUM_HIDDEN, return_sequences=True)(inputs)\n",
    "        elif MODEL_TYPE == 'gru':\n",
    "            rnn_out = LSTM(NUM_HIDDEN, return_sequences=True)(inputs)\n",
    "        elif MODEL_TYPE == 'lstm':\n",
    "            rnn_out = LSTM(NUM_HIDDEN, return_sequences=True)(inputs)\n",
    "        else:\n",
    "            raise NameError(\"Unsupported model type\")\n",
    "        # Attention Layer\n",
    "        attention_mul = attention_3d_block(rnn_out)\n",
    "        attention_mul = Flatten()(attention_mul)\n",
    "        output = Dense(2, activation='softmax')(attention_mul)\n",
    "        model = Model(input=[inputs], output=output)\n",
    "        \n",
    "        return model"
   ]
  },
  {
   "cell_type": "code",
   "execution_count": 65,
   "metadata": {},
   "outputs": [
    {
     "name": "stdout",
     "output_type": "stream",
     "text": [
      "__________________________________________________________________________________________________\n",
      "Layer (type)                    Output Shape         Param #     Connected to                     \n",
      "==================================================================================================\n",
      "input_9 (InputLayer)            (None, 52, 50)       0                                            \n",
      "__________________________________________________________________________________________________\n",
      "lstm_15 (LSTM)                  (None, 52, 100)      60400       input_9[0][0]                    \n",
      "__________________________________________________________________________________________________\n",
      "permute_8 (Permute)             (None, 100, 52)      0           lstm_15[0][0]                    \n",
      "__________________________________________________________________________________________________\n",
      "reshape_8 (Reshape)             (None, 100, 52)      0           permute_8[0][0]                  \n",
      "__________________________________________________________________________________________________\n",
      "dense_17 (Dense)                (None, 100, 52)      2756        reshape_8[0][0]                  \n",
      "__________________________________________________________________________________________________\n",
      "attention_vec (Permute)         (None, 52, 100)      0           dense_17[0][0]                   \n",
      "__________________________________________________________________________________________________\n",
      "attention_mul (Merge)           (None, 52, 100)      0           lstm_15[0][0]                    \n",
      "                                                                 attention_vec[0][0]              \n",
      "__________________________________________________________________________________________________\n",
      "flatten_6 (Flatten)             (None, 5200)         0           attention_mul[0][0]              \n",
      "__________________________________________________________________________________________________\n",
      "dense_18 (Dense)                (None, 2)            10402       flatten_6[0][0]                  \n",
      "==================================================================================================\n",
      "Total params: 73,558\n",
      "Trainable params: 73,558\n",
      "Non-trainable params: 0\n",
      "__________________________________________________________________________________________________\n"
     ]
    },
    {
     "name": "stderr",
     "output_type": "stream",
     "text": [
      "/anaconda/lib/python3.6/site-packages/ipykernel_launcher.py:41: UserWarning: The `merge` function is deprecated and will be removed after 08/2017. Use instead layers from `keras.layers.merge`, e.g. `add`, `concatenate`, etc.\n",
      "/anaconda/lib/python3.6/site-packages/Keras-2.0.8-py3.6.egg/keras/legacy/layers.py:458: UserWarning: The `Merge` layer is deprecated and will be removed after 08/2017. Use instead layers from `keras.layers.merge`, e.g. `add`, `concatenate`, etc.\n",
      "/anaconda/lib/python3.6/site-packages/ipykernel_launcher.py:58: UserWarning: Update your `Model` call to the Keras 2 API: `Model(inputs=[<tf.Tenso..., outputs=Tensor(\"de...)`\n"
     ]
    }
   ],
   "source": [
    "model = build_model()\n",
    "\n",
    "model.compile(loss='binary_crossentropy',\n",
    "              optimizer='adam',\n",
    "              metrics=['accuracy'])\n",
    "\n",
    "model.summary()"
   ]
  },
  {
   "cell_type": "code",
   "execution_count": 66,
   "metadata": {},
   "outputs": [
    {
     "name": "stdout",
     "output_type": "stream",
     "text": [
      "Epoch 1/10\n",
      "62s - loss: 0.6555 - acc: 0.6069\n",
      "Epoch 2/10\n",
      "59s - loss: 0.6167 - acc: 0.6653\n",
      "Epoch 3/10\n",
      "61s - loss: 0.5951 - acc: 0.6823\n",
      "Epoch 4/10\n",
      "60s - loss: 0.5870 - acc: 0.6906\n",
      "Epoch 5/10\n",
      "60s - loss: 0.5709 - acc: 0.7056\n",
      "Epoch 6/10\n",
      "60s - loss: 0.5589 - acc: 0.7169\n",
      "Epoch 7/10\n",
      "60s - loss: 0.5422 - acc: 0.7237\n",
      "Epoch 8/10\n",
      "60s - loss: 0.5291 - acc: 0.7370\n",
      "Epoch 9/10\n",
      "60s - loss: 0.5158 - acc: 0.7489\n",
      "Epoch 10/10\n",
      "60s - loss: 0.5025 - acc: 0.7544\n"
     ]
    },
    {
     "data": {
      "text/plain": [
       "<keras.callbacks.History at 0x13aeef1d0>"
      ]
     },
     "execution_count": 66,
     "metadata": {},
     "output_type": "execute_result"
    }
   ],
   "source": [
    "model.fit(train_insts, train_labels, epochs=EPOCHE, batch_size=BATCH_SIZE, verbose=2)"
   ]
  },
  {
   "cell_type": "code",
   "execution_count": null,
   "metadata": {
    "collapsed": true
   },
   "outputs": [],
   "source": []
  }
 ],
 "metadata": {
  "kernelspec": {
   "display_name": "Python 3",
   "language": "python",
   "name": "python3"
  },
  "language_info": {
   "codemirror_mode": {
    "name": "ipython",
    "version": 3
   },
   "file_extension": ".py",
   "mimetype": "text/x-python",
   "name": "python",
   "nbconvert_exporter": "python",
   "pygments_lexer": "ipython3",
   "version": "3.6.2"
  }
 },
 "nbformat": 4,
 "nbformat_minor": 2
}
