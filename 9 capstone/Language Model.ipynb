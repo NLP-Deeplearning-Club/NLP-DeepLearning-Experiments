{
 "cells": [
  {
   "cell_type": "markdown",
   "metadata": {},
   "source": [
    "# Use LSTM to Generate Next Sentence"
   ]
  },
  {
   "cell_type": "code",
   "execution_count": 1,
   "metadata": {
    "collapsed": true
   },
   "outputs": [],
   "source": [
    "import tensorflow as tf\n",
    "import os\n",
    "from six.moves import cPickle\n",
    "import collections\n",
    "import numpy as np\n",
    "import codecs\n",
    "import random"
   ]
  },
  {
   "cell_type": "markdown",
   "metadata": {},
   "source": [
    "### Load Training Dataset"
   ]
  },
  {
   "cell_type": "code",
   "execution_count": 2,
   "metadata": {},
   "outputs": [
    {
     "name": "stdout",
     "output_type": "stream",
     "text": [
      "---------------------------------------------------------\n",
      "Training dataset contains 750 sentences\n",
      "In total, 8809 words.\n",
      "Different words : 1048\n",
      "---------------------------------------------------------\n",
      "First 10 words in training dataset are :\n",
      " <s> Sue stuck with dance and loved it . </s>\n"
     ]
    }
   ],
   "source": [
    "train_data = './bobsue-data/bobsue.lm.test.txt'\n",
    "\n",
    "# Read the dataset as lines\n",
    "with codecs.open(train_data, 'r', 'utf-8') as file:\n",
    "    lines = file.readlines()\n",
    "    \n",
    "# See how many lines we have in train dataset \n",
    "print(\"---------------------------------------------------------\")\n",
    "print(\"Training dataset contains {} sentences\".format(len(lines)))\n",
    "\n",
    "# Convert the lines into words\n",
    "sents = [line.split() for line in lines]\n",
    "words = [word for sent in sents for word in sent]\n",
    "\n",
    "# See how many words in train dataset\n",
    "print(\"In total, {} words.\".format(len(words)))\n",
    "print('Different words :', len(set(words)))\n",
    "print(\"---------------------------------------------------------\")\n",
    "print(\"First 10 words in training dataset are :\\n\", ' '.join(words[:10]))\n",
    "\n",
    "# Set free memory\n",
    "del lines, sents"
   ]
  },
  {
   "cell_type": "markdown",
   "metadata": {},
   "source": [
    "### Load Vocabulary"
   ]
  },
  {
   "cell_type": "code",
   "execution_count": 3,
   "metadata": {},
   "outputs": [
    {
     "name": "stdout",
     "output_type": "stream",
     "text": [
      "Whole vocabulary contains 1498 words.\n"
     ]
    }
   ],
   "source": [
    "vocab_file = './bobsue-data/bobsue.voc.txt'\n",
    "\n",
    "# Read vocabulary file\n",
    "with codecs.open(vocab_file, 'r', 'utf-8') as file:\n",
    "    lines = file.readlines()\n",
    "\n",
    "# Parse lines -> vocabulary \n",
    "vocabulary = [line.split()[0] for line in lines if line != '\\n']\n",
    "\n",
    "# Print out information about the vocabulary\n",
    "print(\"Whole vocabulary contains {} words.\".format(len(vocabulary)))"
   ]
  },
  {
   "cell_type": "markdown",
   "metadata": {},
   "source": [
    "### Create Lookup Table"
   ]
  },
  {
   "cell_type": "code",
   "execution_count": 4,
   "metadata": {
    "collapsed": true
   },
   "outputs": [],
   "source": [
    "# Function to create lookup table\n",
    "def create_lookup_table(vocab, words):\n",
    "    \"\"\" Create lookup table from vocabulary and words\n",
    "   \n",
    "    Args:\n",
    "        vocab: list(str): Vocabulary\n",
    "        words: list(str): List of words that needs to be transformed into index\n",
    "    \n",
    "    Returns:\n",
    "        index_to_word: dict{ int : str }: index -> word\n",
    "        word_to_index: dict{ str : int }: word -> index\n",
    "        word_index: list(int): words -> index of words according to word_to_index\n",
    "    \"\"\"\n",
    "    \n",
    "    # Build index -> word and word -> index\n",
    "    index_to_word = {key: word for key, word in enumerate(vocab)}\n",
    "    word_to_index = {word: key for key, word in enumerate(vocab)} \n",
    "    \n",
    "    # Parse words list -> word index \n",
    "    word_index = [word_to_index[word] for word in words]\n",
    "    \n",
    "    return index_to_word, word_to_index, word_index"
   ]
  },
  {
   "cell_type": "code",
   "execution_count": 5,
   "metadata": {},
   "outputs": [
    {
     "name": "stdout",
     "output_type": "stream",
     "text": [
      "After parsing, the first 10 words' index are:\n",
      "[0, 7, 1036, 31, 392, 10, 70, 20, 2, 1]\n"
     ]
    }
   ],
   "source": [
    "index_to_word, word_to_index, word_index = create_lookup_table(vocabulary, words)\n",
    "print(\"After parsing, the first 10 words' index are:\")\n",
    "print(word_index[:10])"
   ]
  },
  {
   "cell_type": "markdown",
   "metadata": {},
   "source": [
    "## Build the Network"
   ]
  },
  {
   "cell_type": "markdown",
   "metadata": {},
   "source": [
    "### Batch the data"
   ]
  },
  {
   "cell_type": "code",
   "execution_count": 17,
   "metadata": {
    "collapsed": true
   },
   "outputs": [],
   "source": [
    "# Function to get number of batch data\n",
    "def get_batch(word_index, num_batches, seq_length):\n",
    "    \"\"\" Randomly get several batches of data from whole dataset\n",
    "    \n",
    "    Args:\n",
    "        word_index : list(int): List of index of words\n",
    "        num_batches: int: Number of batches\n",
    "        seq_length : int: sequence length\n",
    "        \n",
    "    Returns:\n",
    "        x_batches  : list(list(int)) :  shape = (num_batches, seq_length)\n",
    "        y_batches  : list(list(int)) :  shape = (num_batches, seq_length)\n",
    "    \"\"\"\n",
    "    x_batches = []\n",
    "    y_batches = []\n",
    "    max_start_index = len(word_index) - seq_length - 1\n",
    "    for _ in range(num_batches):\n",
    "        start = random.randint(0, max_start_index )\n",
    "        x_input  = word_index[ start   : start+seq_length   ]\n",
    "        y_output = word_index[ start+1 : start+seq_length+1 ]\n",
    "        \n",
    "        x_batches.append(x_input)\n",
    "        y_batches.append(y_output)\n",
    "    \n",
    "    return np.array(x_batches), np.array(y_batches)"
   ]
  },
  {
   "cell_type": "markdown",
   "metadata": {},
   "source": [
    "### Hyperparameters"
   ]
  },
  {
   "cell_type": "code",
   "execution_count": 50,
   "metadata": {
    "collapsed": true
   },
   "outputs": [],
   "source": [
    "hidden_units = 128\n",
    "dropout_keep_prob = 0.7\n",
    "num_layers = 2\n",
    "embed_dim = 128\n",
    "learning_rate = 0.002\n",
    "num_steps = 20000\n",
    "seq_length = 10\n",
    "num_batches = 20"
   ]
  },
  {
   "cell_type": "markdown",
   "metadata": {
    "collapsed": true
   },
   "source": [
    "### Build the Graph"
   ]
  },
  {
   "cell_type": "code",
   "execution_count": 55,
   "metadata": {},
   "outputs": [],
   "source": [
    "graph = tf.Graph()\n",
    "with graph.as_default():\n",
    "    \n",
    "    # Placeholders\n",
    "    # Input  Shape = (num_batches, seq_length)\n",
    "    inputs  = tf.placeholder(tf.int32, [None, None], name=\"inputs\" )\n",
    "    # Output Shape = (num_batches, 1)\n",
    "    targets = tf.placeholder(tf.int32, [None, None], name=\"targets\")\n",
    "    \n",
    "    # Calculate Text Attributes\n",
    "    vocab_size = len(vocabulary)\n",
    "    input_shape = tf.shape(inputs)\n",
    "    \n",
    "    # Build LTSM Cells\n",
    "    lstm = tf.contrib.rnn.BasicLSTMCell(num_units=hidden_units)\n",
    "    dropout_cell = tf.contrib.rnn.DropoutWrapper(lstm, \\\n",
    "                                                 output_keep_prob=dropout_keep_prob)\n",
    "    cell = tf.contrib.rnn.MultiRNNCell([dropout_cell] * num_layers)\n",
    "    \n",
    "    # Set Initial State\n",
    "    initial_state = cell.zero_state(input_shape[0], tf.float32)\n",
    "    initial_state = tf.identity(initial_state, name=\"initial_state\")\n",
    "    \n",
    "    # Create word embeddings as input of LSTM\n",
    "    embed = tf.contrib.layers.embed_sequence(inputs, vocab_size, embed_dim)\n",
    "    \n",
    "    # Build LSTM\n",
    "    outputs, final_state = tf.nn.dynamic_rnn(cell, embed, dtype=tf.float32)\n",
    "    final_state = tf.identity(final_state, name=\"final_state\")\n",
    "    \n",
    "    # Take LSTM output and make logits\n",
    "    logits = tf.contrib.layers.fully_connected(outputs, vocab_size, activation_fn=None)\n",
    "    \n",
    "    # Calculate the probability of generating each word\n",
    "    probs = tf.nn.softmax(logits, name='probs')\n",
    "    \n",
    "    # Define loss\n",
    "    loss = tf.contrib.seq2seq.sequence_loss(\n",
    "        logits,\n",
    "        targets,\n",
    "        tf.ones([input_shape[0], input_shape[1]])\n",
    "    )\n",
    "    \n",
    "    # Optimizer\n",
    "    optimizer = tf.train.AdadeltaOptimizer(learning_rate)\n",
    "    \n",
    "    # Gradient clipping to avoid exploding gradients\n",
    "    gradients = optimizer.compute_gradients(loss)\n",
    "    capped_gradients = [(tf.clip_by_value(grad, -1., 1.), var) for grad, var in gradients if grad is not None]\n",
    "    train_op = optimizer.apply_gradients(capped_gradients)"
   ]
  },
  {
   "cell_type": "markdown",
   "metadata": {},
   "source": [
    "### Train the Network"
   ]
  },
  {
   "cell_type": "code",
   "execution_count": 56,
   "metadata": {},
   "outputs": [
    {
     "name": "stdout",
     "output_type": "stream",
     "text": [
      "Step 0 Train Loss 7.3117356300354\n",
      "Step 100 Train Loss 7.311621189117432\n",
      "Step 200 Train Loss 7.311495304107666\n",
      "Step 300 Train Loss 7.311268329620361\n",
      "Step 400 Train Loss 7.311399459838867\n",
      "Step 500 Train Loss 7.311146259307861\n",
      "Step 600 Train Loss 7.310908317565918\n",
      "Step 700 Train Loss 7.310708999633789\n",
      "Step 800 Train Loss 7.310589790344238\n",
      "Step 900 Train Loss 7.310351371765137\n",
      "Step 1000 Train Loss 7.310306549072266\n",
      "Step 1100 Train Loss 7.310388565063477\n",
      "Step 1200 Train Loss 7.31004524230957\n",
      "Step 1300 Train Loss 7.309638500213623\n",
      "Step 1400 Train Loss 7.309570789337158\n",
      "Step 1500 Train Loss 7.309659481048584\n",
      "Step 1600 Train Loss 7.309417247772217\n",
      "Step 1700 Train Loss 7.309089183807373\n",
      "Step 1800 Train Loss 7.308868885040283\n",
      "Step 1900 Train Loss 7.308569431304932\n",
      "Step 2000 Train Loss 7.308839321136475\n",
      "Step 2100 Train Loss 7.308161735534668\n",
      "Step 2200 Train Loss 7.308342456817627\n",
      "Step 2300 Train Loss 7.308066368103027\n",
      "Step 2400 Train Loss 7.307859897613525\n",
      "Step 2500 Train Loss 7.307769298553467\n",
      "Step 2600 Train Loss 7.307244300842285\n",
      "Step 2700 Train Loss 7.306827545166016\n",
      "Step 2800 Train Loss 7.3071112632751465\n",
      "Step 2900 Train Loss 7.306976795196533\n",
      "Step 3000 Train Loss 7.306619644165039\n",
      "Step 3100 Train Loss 7.3064284324646\n",
      "Step 3200 Train Loss 7.306535243988037\n",
      "Step 3300 Train Loss 7.305710315704346\n",
      "Step 3400 Train Loss 7.3061113357543945\n",
      "Step 3500 Train Loss 7.305447578430176\n",
      "Step 3600 Train Loss 7.305988311767578\n",
      "Step 3700 Train Loss 7.306117057800293\n",
      "Step 3800 Train Loss 7.305034160614014\n",
      "Step 3900 Train Loss 7.304323673248291\n",
      "Step 4000 Train Loss 7.304989814758301\n",
      "Step 4100 Train Loss 7.304261684417725\n",
      "Step 4200 Train Loss 7.304262638092041\n",
      "Step 4300 Train Loss 7.303518295288086\n",
      "Step 4400 Train Loss 7.303444862365723\n",
      "Step 4500 Train Loss 7.30389404296875\n",
      "Step 4600 Train Loss 7.303770542144775\n",
      "Step 4700 Train Loss 7.303122520446777\n",
      "Step 4800 Train Loss 7.302638053894043\n",
      "Step 4900 Train Loss 7.302610874176025\n",
      "Step 5000 Train Loss 7.302762508392334\n",
      "Step 5100 Train Loss 7.302446365356445\n",
      "Step 5200 Train Loss 7.301759243011475\n",
      "Step 5300 Train Loss 7.30288553237915\n",
      "Step 5400 Train Loss 7.301580429077148\n",
      "Step 5500 Train Loss 7.301153659820557\n",
      "Step 5600 Train Loss 7.300948619842529\n",
      "Step 5700 Train Loss 7.301142692565918\n",
      "Step 5800 Train Loss 7.300410270690918\n",
      "Step 5900 Train Loss 7.300976753234863\n",
      "Step 6000 Train Loss 7.301276683807373\n",
      "Step 6100 Train Loss 7.2986226081848145\n",
      "Step 6200 Train Loss 7.299366474151611\n",
      "Step 6300 Train Loss 7.300106048583984\n",
      "Step 6400 Train Loss 7.298640251159668\n",
      "Step 6500 Train Loss 7.299544811248779\n",
      "Step 6600 Train Loss 7.298660755157471\n",
      "Step 6700 Train Loss 7.297818183898926\n",
      "Step 6800 Train Loss 7.298223495483398\n",
      "Step 6900 Train Loss 7.2979416847229\n",
      "Step 7000 Train Loss 7.296976089477539\n",
      "Step 7100 Train Loss 7.2978644371032715\n",
      "Step 7200 Train Loss 7.299251079559326\n",
      "Step 7300 Train Loss 7.2958083152771\n",
      "Step 7400 Train Loss 7.295486927032471\n",
      "Step 7500 Train Loss 7.295760631561279\n",
      "Step 7600 Train Loss 7.294479846954346\n",
      "Step 7700 Train Loss 7.295900344848633\n",
      "Step 7800 Train Loss 7.294495105743408\n",
      "Step 7900 Train Loss 7.294991970062256\n",
      "Step 8000 Train Loss 7.295723915100098\n",
      "Step 8100 Train Loss 7.291750907897949\n",
      "Step 8200 Train Loss 7.293422698974609\n",
      "Step 8300 Train Loss 7.29420280456543\n",
      "Step 8400 Train Loss 7.292918682098389\n",
      "Step 8500 Train Loss 7.292525768280029\n",
      "Step 8600 Train Loss 7.293581485748291\n",
      "Step 8700 Train Loss 7.292532920837402\n",
      "Step 8800 Train Loss 7.292394638061523\n",
      "Step 8900 Train Loss 7.290961742401123\n",
      "Step 9000 Train Loss 7.292913913726807\n",
      "Step 9100 Train Loss 7.2927656173706055\n",
      "Step 9200 Train Loss 7.290832996368408\n",
      "Step 9300 Train Loss 7.288376331329346\n",
      "Step 9400 Train Loss 7.290106296539307\n",
      "Step 9500 Train Loss 7.291014194488525\n",
      "Step 9600 Train Loss 7.287865161895752\n",
      "Step 9700 Train Loss 7.290289402008057\n",
      "Step 9800 Train Loss 7.287782669067383\n",
      "Step 9900 Train Loss 7.289377212524414\n",
      "Step 10000 Train Loss 7.2870306968688965\n",
      "Step 10100 Train Loss 7.290783882141113\n",
      "Step 10200 Train Loss 7.287354946136475\n",
      "Step 10300 Train Loss 7.287693023681641\n",
      "Step 10400 Train Loss 7.2854838371276855\n",
      "Step 10500 Train Loss 7.288571834564209\n",
      "Step 10600 Train Loss 7.288320541381836\n",
      "Step 10700 Train Loss 7.283262252807617\n",
      "Step 10800 Train Loss 7.284578800201416\n",
      "Step 10900 Train Loss 7.2819952964782715\n",
      "Step 11000 Train Loss 7.284820079803467\n",
      "Step 11100 Train Loss 7.282435417175293\n",
      "Step 11200 Train Loss 7.282620906829834\n",
      "Step 11300 Train Loss 7.288033485412598\n",
      "Step 11400 Train Loss 7.282848358154297\n",
      "Step 11500 Train Loss 7.283462047576904\n",
      "Step 11600 Train Loss 7.280521392822266\n",
      "Step 11700 Train Loss 7.281146049499512\n",
      "Step 11800 Train Loss 7.28196907043457\n",
      "Step 11900 Train Loss 7.283889293670654\n",
      "Step 12000 Train Loss 7.280025482177734\n",
      "Step 12100 Train Loss 7.28016471862793\n",
      "Step 12200 Train Loss 7.278997421264648\n",
      "Step 12300 Train Loss 7.279366970062256\n",
      "Step 12400 Train Loss 7.281053066253662\n",
      "Step 12500 Train Loss 7.278801441192627\n",
      "Step 12600 Train Loss 7.278749465942383\n",
      "Step 12700 Train Loss 7.278040885925293\n",
      "Step 12800 Train Loss 7.276016712188721\n",
      "Step 12900 Train Loss 7.274405479431152\n",
      "Step 13000 Train Loss 7.274554252624512\n",
      "Step 13100 Train Loss 7.276304244995117\n",
      "Step 13200 Train Loss 7.275157928466797\n",
      "Step 13300 Train Loss 7.276938438415527\n",
      "Step 13400 Train Loss 7.274392604827881\n",
      "Step 13500 Train Loss 7.269107818603516\n",
      "Step 13600 Train Loss 7.2697038650512695\n",
      "Step 13700 Train Loss 7.274023532867432\n",
      "Step 13800 Train Loss 7.272462368011475\n",
      "Step 13900 Train Loss 7.27126407623291\n",
      "Step 14000 Train Loss 7.269155502319336\n",
      "Step 14100 Train Loss 7.265182971954346\n",
      "Step 14200 Train Loss 7.269280910491943\n",
      "Step 14300 Train Loss 7.272342681884766\n",
      "Step 14400 Train Loss 7.270684719085693\n",
      "Step 14500 Train Loss 7.272057056427002\n",
      "Step 14600 Train Loss 7.266275405883789\n",
      "Step 14700 Train Loss 7.261789321899414\n",
      "Step 14800 Train Loss 7.265017032623291\n",
      "Step 14900 Train Loss 7.263316631317139\n",
      "Step 15000 Train Loss 7.2689666748046875\n",
      "Step 15100 Train Loss 7.259091854095459\n",
      "Step 15200 Train Loss 7.261112213134766\n",
      "Step 15300 Train Loss 7.2671732902526855\n",
      "Step 15400 Train Loss 7.253522872924805\n",
      "Step 15500 Train Loss 7.2571282386779785\n",
      "Step 15600 Train Loss 7.258734226226807\n",
      "Step 15700 Train Loss 7.270514965057373\n",
      "Step 15800 Train Loss 7.257650375366211\n",
      "Step 15900 Train Loss 7.257681369781494\n",
      "Step 16000 Train Loss 7.255299091339111\n",
      "Step 16100 Train Loss 7.255403995513916\n",
      "Step 16200 Train Loss 7.248375415802002\n",
      "Step 16300 Train Loss 7.251669883728027\n",
      "Step 16400 Train Loss 7.252131462097168\n",
      "Step 16500 Train Loss 7.243279457092285\n",
      "Step 16600 Train Loss 7.253036022186279\n",
      "Step 16700 Train Loss 7.247003078460693\n",
      "Step 16800 Train Loss 7.243752479553223\n",
      "Step 16900 Train Loss 7.248968124389648\n",
      "Step 17000 Train Loss 7.244030952453613\n",
      "Step 17100 Train Loss 7.251953125\n",
      "Step 17200 Train Loss 7.2442779541015625\n",
      "Step 17300 Train Loss 7.244501113891602\n",
      "Step 17400 Train Loss 7.234861850738525\n",
      "Step 17500 Train Loss 7.25491189956665\n",
      "Step 17600 Train Loss 7.242178916931152\n",
      "Step 17700 Train Loss 7.234351634979248\n",
      "Step 17800 Train Loss 7.228700160980225\n",
      "Step 17900 Train Loss 7.242032527923584\n",
      "Step 18000 Train Loss 7.2268195152282715\n",
      "Step 18100 Train Loss 7.2390642166137695\n",
      "Step 18200 Train Loss 7.238944053649902\n",
      "Step 18300 Train Loss 7.227779388427734\n",
      "Step 18400 Train Loss 7.226441860198975\n",
      "Step 18500 Train Loss 7.2241644859313965\n",
      "Step 18600 Train Loss 7.220371723175049\n",
      "Step 18700 Train Loss 7.218922138214111\n",
      "Step 18800 Train Loss 7.223236560821533\n",
      "Step 18900 Train Loss 7.2199273109436035\n",
      "Step 19000 Train Loss 7.216756820678711\n",
      "Step 19100 Train Loss 7.21385383605957\n",
      "Step 19200 Train Loss 7.197493076324463\n",
      "Step 19300 Train Loss 7.198763370513916\n",
      "Step 19400 Train Loss 7.191117763519287\n",
      "Step 19500 Train Loss 7.213235855102539\n",
      "Step 19600 Train Loss 7.200637340545654\n",
      "Step 19700 Train Loss 7.1884660720825195\n",
      "Step 19800 Train Loss 7.182119369506836\n",
      "Step 19900 Train Loss 7.200456619262695\n"
     ]
    }
   ],
   "source": [
    "import time\n",
    "\n",
    "with tf.Session(graph=graph) as sess:\n",
    "    \n",
    "    sess.run(tf.global_variables_initializer())\n",
    "    \n",
    "    state = sess.run(initial_state, \\\n",
    "                     {inputs: np.array(word_index[:seq_length]).reshape(seq_length, 1)})\n",
    "    \n",
    "    for step in range(num_steps):\n",
    "        x_batches, y_batches = get_batch(word_index, num_batches, seq_length)\n",
    "        \n",
    "        feed_dict = {\n",
    "            inputs: x_batches,\n",
    "            targets: y_batches,\n",
    "            initial_state: state\n",
    "        }\n",
    "        train_loss, state, _ = sess.run([loss, final_state, train_op], feed_dict)\n",
    "        \n",
    "        if step % 100 == 0:\n",
    "            print(\"Step {} Train Loss {}\".format(step, train_loss))"
   ]
  },
  {
   "cell_type": "code",
   "execution_count": null,
   "metadata": {
    "collapsed": true
   },
   "outputs": [],
   "source": []
  }
 ],
 "metadata": {
  "kernelspec": {
   "display_name": "Python 3",
   "language": "python",
   "name": "python3"
  },
  "language_info": {
   "codemirror_mode": {
    "name": "ipython",
    "version": 3
   },
   "file_extension": ".py",
   "mimetype": "text/x-python",
   "name": "python",
   "nbconvert_exporter": "python",
   "pygments_lexer": "ipython3",
   "version": "3.6.2"
  }
 },
 "nbformat": 4,
 "nbformat_minor": 2
}
