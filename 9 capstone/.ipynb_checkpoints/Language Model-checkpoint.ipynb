{
 "cells": [
  {
   "cell_type": "markdown",
   "metadata": {},
   "source": [
    "# Use LSTM to Generate Next Sentence"
   ]
  },
  {
   "cell_type": "code",
   "execution_count": 1,
   "metadata": {
    "collapsed": true
   },
   "outputs": [],
   "source": [
    "import tensorflow as tf\n",
    "import os\n",
    "from six.moves import cPickle\n",
    "import collections\n",
    "import numpy as np\n",
    "import codecs\n",
    "import random"
   ]
  },
  {
   "cell_type": "markdown",
   "metadata": {},
   "source": [
    "### Load Training Dataset"
   ]
  },
  {
   "cell_type": "code",
   "execution_count": 10,
   "metadata": {
    "collapsed": true
   },
   "outputs": [],
   "source": [
    "def get_words(data_file):\n",
    "    \"\"\" Read dataset as list of words\n",
    "    \n",
    "    Args:\n",
    "        data_file: string: path to the dataset\n",
    "        \n",
    "    Return:\n",
    "        words: list(str): list of words\n",
    "    \"\"\"\n",
    "    # Read the dataset as lines\n",
    "    with codecs.open(data_file, 'r', 'utf-8') as file:\n",
    "        lines = file.readlines()\n",
    "\n",
    "    # Convert the lines into words\n",
    "    sents = [line.split() for line in lines]\n",
    "    words = [word for sent in sents for word in sent]\n",
    "    \n",
    "    return words"
   ]
  },
  {
   "cell_type": "code",
   "execution_count": 11,
   "metadata": {},
   "outputs": [
    {
     "name": "stdout",
     "output_type": "stream",
     "text": [
      "In total, training dataset contains 71367 words.\n",
      "In total, validation dataset contains 8707 words.\n",
      "In total, test dataset contains 8809 words.\n"
     ]
    }
   ],
   "source": [
    "train_data = './bobsue-data/bobsue.lm.train.txt'\n",
    "test_data  = './bobsue-data/bobsue.lm.test.txt'\n",
    "eval_data  = './bobsue-data/bobsue.lm.dev.txt'\n",
    "\n",
    "train_words = get_words(train_data)\n",
    "test_words  = get_words(test_data)\n",
    "eval_words  = get_words(eval_data)\n",
    "\n",
    "# See how many words in dataset\n",
    "print(\"In total, training dataset contains {} words.\".  format(len(train_words)))\n",
    "print(\"In total, validation dataset contains {} words.\".format(len(eval_words))  )\n",
    "print(\"In total, test dataset contains {} words.\".      format(len(test_words)) )"
   ]
  },
  {
   "cell_type": "markdown",
   "metadata": {},
   "source": [
    "### Load Vocabulary"
   ]
  },
  {
   "cell_type": "code",
   "execution_count": 12,
   "metadata": {},
   "outputs": [
    {
     "name": "stdout",
     "output_type": "stream",
     "text": [
      "Whole vocabulary contains 1498 words.\n"
     ]
    }
   ],
   "source": [
    "vocab_file = './bobsue-data/bobsue.voc.txt'\n",
    "\n",
    "# Read vocabulary file\n",
    "with codecs.open(vocab_file, 'r', 'utf-8') as file:\n",
    "    lines = file.readlines()\n",
    "\n",
    "# Parse lines -> vocabulary \n",
    "vocabulary = [line.split()[0] for line in lines if line != '\\n']\n",
    "\n",
    "# Print out information about the vocabulary\n",
    "print(\"Whole vocabulary contains {} words.\".format(len(vocabulary)))"
   ]
  },
  {
   "cell_type": "markdown",
   "metadata": {},
   "source": [
    "### Create Lookup Table"
   ]
  },
  {
   "cell_type": "code",
   "execution_count": 13,
   "metadata": {
    "collapsed": true
   },
   "outputs": [],
   "source": [
    "# Build index -> word and word -> index\n",
    "index_to_word = {key: word for key, word in enumerate(vocabulary)}\n",
    "word_to_index = {word: key for key, word in enumerate(vocabulary)} "
   ]
  },
  {
   "cell_type": "code",
   "execution_count": 15,
   "metadata": {},
   "outputs": [
    {
     "name": "stdout",
     "output_type": "stream",
     "text": [
      "After parsing, the first 10 words' index in training dataset are:\n",
      "[0, 16, 235, 372, 10, 60, 3, 75, 618, 39]\n"
     ]
    }
   ],
   "source": [
    "# Parse words list -> word index \n",
    "train_word_index = [word_to_index[word] for word in train_words]\n",
    "test_word_index  = [word_to_index[word] for word in test_words ]\n",
    "eval_word_index  = [word_to_index[word] for word in eval_words ]\n",
    "print(\"After parsing, the first 10 words' index in training dataset are:\")\n",
    "print(train_word_index[:10])"
   ]
  },
  {
   "cell_type": "markdown",
   "metadata": {},
   "source": [
    "## Build the Network"
   ]
  },
  {
   "cell_type": "markdown",
   "metadata": {},
   "source": [
    "### Batch the data"
   ]
  },
  {
   "cell_type": "code",
   "execution_count": 16,
   "metadata": {
    "collapsed": true
   },
   "outputs": [],
   "source": [
    "# Function to get number of batch data\n",
    "def get_batch(word_index, num_batches, seq_length):\n",
    "    \"\"\" Randomly get several batches of data from whole dataset\n",
    "    \n",
    "    Args:\n",
    "        word_index : list(int): List of index of words\n",
    "        num_batches: int: Number of batches\n",
    "        seq_length : int: sequence length\n",
    "        \n",
    "    Returns:\n",
    "        x_batches  : list(list(int)) :  shape = (num_batches, seq_length)\n",
    "        y_batches  : list(list(int)) :  shape = (num_batches, seq_length)\n",
    "    \"\"\"\n",
    "    x_batches = []\n",
    "    y_batches = []\n",
    "    max_start_index = len(word_index) - seq_length - 1\n",
    "    for _ in range(num_batches):\n",
    "        start = random.randint(0, max_start_index )\n",
    "        x_input  = word_index[ start   : start+seq_length   ]\n",
    "        y_output = word_index[ start+1 : start+seq_length+1 ]\n",
    "        \n",
    "        x_batches.append(x_input)\n",
    "        y_batches.append(y_output)\n",
    "    \n",
    "    return np.array(x_batches), np.array(y_batches)"
   ]
  },
  {
   "cell_type": "markdown",
   "metadata": {},
   "source": [
    "### Hyperparameters"
   ]
  },
  {
   "cell_type": "code",
   "execution_count": 18,
   "metadata": {
    "collapsed": true
   },
   "outputs": [],
   "source": [
    "hidden_units = 128\n",
    "dropout_keep_prob = 0.7\n",
    "num_layers = 2\n",
    "embed_dim = 128\n",
    "learning_rate = 0.002\n",
    "num_steps = 20000\n",
    "seq_length = 10\n",
    "num_batches = 20\n",
    "save_dir = './save'"
   ]
  },
  {
   "cell_type": "markdown",
   "metadata": {
    "collapsed": true
   },
   "source": [
    "### Build the Graph"
   ]
  },
  {
   "cell_type": "code",
   "execution_count": 102,
   "metadata": {},
   "outputs": [],
   "source": [
    "graph = tf.Graph()\n",
    "with graph.as_default():\n",
    "    \n",
    "    # Placeholders\n",
    "    # Input  Shape = (num_batches, seq_length)\n",
    "    inputs  = tf.placeholder(tf.int64, [None, None], name=\"inputs\" )\n",
    "    # Output Shape = (num_batches, 1)\n",
    "    targets = tf.placeholder(tf.int64, [None, None], name=\"targets\")\n",
    "    \n",
    "    # Calculate Text Attributes\n",
    "    vocab_size = len(vocabulary)\n",
    "    input_shape = tf.shape(inputs)\n",
    "    \n",
    "    # Build LTSM Cells\n",
    "    lstm = tf.contrib.rnn.BasicLSTMCell(num_units=hidden_units)\n",
    "    dropout_cell = tf.contrib.rnn.DropoutWrapper(lstm, \\\n",
    "                                                 output_keep_prob=dropout_keep_prob)\n",
    "    cell = tf.contrib.rnn.MultiRNNCell([dropout_cell] * num_layers)\n",
    "    \n",
    "    # Set Initial State\n",
    "    initial_state = cell.zero_state(input_shape[0], tf.float32)\n",
    "    initial_state = tf.identity(initial_state, name=\"initial_state\")\n",
    "    \n",
    "    # Create word embeddings as input of LSTM\n",
    "    embed = tf.contrib.layers.embed_sequence(inputs, vocab_size, embed_dim)\n",
    "    \n",
    "    # Build LSTM\n",
    "    outputs, final_state = tf.nn.dynamic_rnn(cell, embed, dtype=tf.float32)\n",
    "    final_state = tf.identity(final_state, name=\"final_state\")\n",
    "    \n",
    "    # Take LSTM output and make logits\n",
    "    logits = tf.contrib.layers.fully_connected(outputs, vocab_size, activation_fn=None)\n",
    "    \n",
    "    # Calculate the probability of generating each word\n",
    "    probs = tf.nn.softmax(logits, name='probs')\n",
    "    \n",
    "    # Define loss\n",
    "    loss = tf.contrib.seq2seq.sequence_loss(\n",
    "        logits,\n",
    "        targets,\n",
    "        tf.ones([input_shape[0], input_shape[1]])\n",
    "    )\n",
    "    \n",
    "    # Optimizer\n",
    "    optimizer = tf.train.AdadeltaOptimizer(learning_rate)\n",
    "    \n",
    "    # Gradient clipping to avoid exploding gradients\n",
    "    gradients = optimizer.compute_gradients(loss)\n",
    "    capped_gradients = [(tf.clip_by_value(grad, -1., 1.), var) for grad, var in gradients if grad is not None]\n",
    "    train_op = optimizer.apply_gradients(capped_gradients)\n",
    "    \n",
    "    # Evaluate model\n",
    "    correct_pred = tf.equal(targets, tf.argmax(logits,2))\n",
    "    accuracy = tf.reduce_mean( tf.cast( correct_pred, tf.float32))"
   ]
  },
  {
   "cell_type": "markdown",
   "metadata": {},
   "source": [
    "### Train the Network"
   ]
  },
  {
   "cell_type": "code",
   "execution_count": 105,
   "metadata": {},
   "outputs": [
    {
     "name": "stdout",
     "output_type": "stream",
     "text": [
      "Step 0 Train Loss 7.311854362487793\n",
      "Step 0 Evaluation Loss 7.311935901641846\n"
     ]
    },
    {
     "ename": "ValueError",
     "evalue": "Parent directory of ./save/0/ doesn't exist, can't save.",
     "output_type": "error",
     "traceback": [
      "\u001b[0;31m---------------------------------------------------------------------------\u001b[0m",
      "\u001b[0;31mNotFoundError\u001b[0m                             Traceback (most recent call last)",
      "\u001b[0;32m/anaconda/lib/python3.6/site-packages/tensorflow/python/client/session.py\u001b[0m in \u001b[0;36m_do_call\u001b[0;34m(self, fn, *args)\u001b[0m\n\u001b[1;32m   1138\u001b[0m     \u001b[0;32mtry\u001b[0m\u001b[0;34m:\u001b[0m\u001b[0;34m\u001b[0m\u001b[0m\n\u001b[0;32m-> 1139\u001b[0;31m       \u001b[0;32mreturn\u001b[0m \u001b[0mfn\u001b[0m\u001b[0;34m(\u001b[0m\u001b[0;34m*\u001b[0m\u001b[0margs\u001b[0m\u001b[0;34m)\u001b[0m\u001b[0;34m\u001b[0m\u001b[0m\n\u001b[0m\u001b[1;32m   1140\u001b[0m     \u001b[0;32mexcept\u001b[0m \u001b[0merrors\u001b[0m\u001b[0;34m.\u001b[0m\u001b[0mOpError\u001b[0m \u001b[0;32mas\u001b[0m \u001b[0me\u001b[0m\u001b[0;34m:\u001b[0m\u001b[0;34m\u001b[0m\u001b[0m\n",
      "\u001b[0;32m/anaconda/lib/python3.6/site-packages/tensorflow/python/client/session.py\u001b[0m in \u001b[0;36m_run_fn\u001b[0;34m(session, feed_dict, fetch_list, target_list, options, run_metadata)\u001b[0m\n\u001b[1;32m   1120\u001b[0m                                  \u001b[0mfeed_dict\u001b[0m\u001b[0;34m,\u001b[0m \u001b[0mfetch_list\u001b[0m\u001b[0;34m,\u001b[0m \u001b[0mtarget_list\u001b[0m\u001b[0;34m,\u001b[0m\u001b[0;34m\u001b[0m\u001b[0m\n\u001b[0;32m-> 1121\u001b[0;31m                                  status, run_metadata)\n\u001b[0m\u001b[1;32m   1122\u001b[0m \u001b[0;34m\u001b[0m\u001b[0m\n",
      "\u001b[0;32m/anaconda/lib/python3.6/contextlib.py\u001b[0m in \u001b[0;36m__exit__\u001b[0;34m(self, type, value, traceback)\u001b[0m\n\u001b[1;32m     87\u001b[0m             \u001b[0;32mtry\u001b[0m\u001b[0;34m:\u001b[0m\u001b[0;34m\u001b[0m\u001b[0m\n\u001b[0;32m---> 88\u001b[0;31m                 \u001b[0mnext\u001b[0m\u001b[0;34m(\u001b[0m\u001b[0mself\u001b[0m\u001b[0;34m.\u001b[0m\u001b[0mgen\u001b[0m\u001b[0;34m)\u001b[0m\u001b[0;34m\u001b[0m\u001b[0m\n\u001b[0m\u001b[1;32m     89\u001b[0m             \u001b[0;32mexcept\u001b[0m \u001b[0mStopIteration\u001b[0m\u001b[0;34m:\u001b[0m\u001b[0;34m\u001b[0m\u001b[0m\n",
      "\u001b[0;32m/anaconda/lib/python3.6/site-packages/tensorflow/python/framework/errors_impl.py\u001b[0m in \u001b[0;36mraise_exception_on_not_ok_status\u001b[0;34m()\u001b[0m\n\u001b[1;32m    465\u001b[0m           \u001b[0mcompat\u001b[0m\u001b[0;34m.\u001b[0m\u001b[0mas_text\u001b[0m\u001b[0;34m(\u001b[0m\u001b[0mpywrap_tensorflow\u001b[0m\u001b[0;34m.\u001b[0m\u001b[0mTF_Message\u001b[0m\u001b[0;34m(\u001b[0m\u001b[0mstatus\u001b[0m\u001b[0;34m)\u001b[0m\u001b[0;34m)\u001b[0m\u001b[0;34m,\u001b[0m\u001b[0;34m\u001b[0m\u001b[0m\n\u001b[0;32m--> 466\u001b[0;31m           pywrap_tensorflow.TF_GetCode(status))\n\u001b[0m\u001b[1;32m    467\u001b[0m   \u001b[0;32mfinally\u001b[0m\u001b[0;34m:\u001b[0m\u001b[0;34m\u001b[0m\u001b[0m\n",
      "\u001b[0;31mNotFoundError\u001b[0m: ./save/0\n\t [[Node: save_2/SaveV2 = SaveV2[dtypes=[DT_FLOAT, DT_FLOAT, DT_FLOAT, DT_FLOAT, DT_FLOAT, DT_FLOAT, DT_FLOAT, DT_FLOAT, DT_FLOAT, DT_FLOAT, DT_FLOAT, DT_FLOAT, DT_FLOAT, DT_FLOAT, DT_FLOAT], _device=\"/job:localhost/replica:0/task:0/cpu:0\"](_arg_save_2/Const_0_0, save_2/SaveV2/tensor_names, save_2/SaveV2/shape_and_slices, EmbedSequence/embeddings, EmbedSequence/embeddings/Adadelta, EmbedSequence/embeddings/Adadelta_1, fully_connected/biases, fully_connected/biases/Adadelta, fully_connected/biases/Adadelta_1, fully_connected/weights, fully_connected/weights/Adadelta, fully_connected/weights/Adadelta_1, rnn/multi_rnn_cell/cell_0/basic_lstm_cell/bias, rnn/multi_rnn_cell/cell_0/basic_lstm_cell/bias/Adadelta, rnn/multi_rnn_cell/cell_0/basic_lstm_cell/bias/Adadelta_1, rnn/multi_rnn_cell/cell_0/basic_lstm_cell/kernel, rnn/multi_rnn_cell/cell_0/basic_lstm_cell/kernel/Adadelta, rnn/multi_rnn_cell/cell_0/basic_lstm_cell/kernel/Adadelta_1)]]",
      "\nDuring handling of the above exception, another exception occurred:\n",
      "\u001b[0;31mNotFoundError\u001b[0m                             Traceback (most recent call last)",
      "\u001b[0;32m/anaconda/lib/python3.6/site-packages/tensorflow/python/training/saver.py\u001b[0m in \u001b[0;36msave\u001b[0;34m(self, sess, save_path, global_step, latest_filename, meta_graph_suffix, write_meta_graph, write_state)\u001b[0m\n\u001b[1;32m   1471\u001b[0m             \u001b[0mself\u001b[0m\u001b[0;34m.\u001b[0m\u001b[0msaver_def\u001b[0m\u001b[0;34m.\u001b[0m\u001b[0msave_tensor_name\u001b[0m\u001b[0;34m,\u001b[0m\u001b[0;34m\u001b[0m\u001b[0m\n\u001b[0;32m-> 1472\u001b[0;31m             {self.saver_def.filename_tensor_name: checkpoint_file})\n\u001b[0m\u001b[1;32m   1473\u001b[0m         \u001b[0mmodel_checkpoint_path\u001b[0m \u001b[0;34m=\u001b[0m \u001b[0mcompat\u001b[0m\u001b[0;34m.\u001b[0m\u001b[0mas_str\u001b[0m\u001b[0;34m(\u001b[0m\u001b[0mmodel_checkpoint_path\u001b[0m\u001b[0;34m)\u001b[0m\u001b[0;34m\u001b[0m\u001b[0m\n",
      "\u001b[0;32m/anaconda/lib/python3.6/site-packages/tensorflow/python/client/session.py\u001b[0m in \u001b[0;36mrun\u001b[0;34m(self, fetches, feed_dict, options, run_metadata)\u001b[0m\n\u001b[1;32m    788\u001b[0m       result = self._run(None, fetches, feed_dict, options_ptr,\n\u001b[0;32m--> 789\u001b[0;31m                          run_metadata_ptr)\n\u001b[0m\u001b[1;32m    790\u001b[0m       \u001b[0;32mif\u001b[0m \u001b[0mrun_metadata\u001b[0m\u001b[0;34m:\u001b[0m\u001b[0;34m\u001b[0m\u001b[0m\n",
      "\u001b[0;32m/anaconda/lib/python3.6/site-packages/tensorflow/python/client/session.py\u001b[0m in \u001b[0;36m_run\u001b[0;34m(self, handle, fetches, feed_dict, options, run_metadata)\u001b[0m\n\u001b[1;32m    996\u001b[0m       results = self._do_run(handle, final_targets, final_fetches,\n\u001b[0;32m--> 997\u001b[0;31m                              feed_dict_string, options, run_metadata)\n\u001b[0m\u001b[1;32m    998\u001b[0m     \u001b[0;32melse\u001b[0m\u001b[0;34m:\u001b[0m\u001b[0;34m\u001b[0m\u001b[0m\n",
      "\u001b[0;32m/anaconda/lib/python3.6/site-packages/tensorflow/python/client/session.py\u001b[0m in \u001b[0;36m_do_run\u001b[0;34m(self, handle, target_list, fetch_list, feed_dict, options, run_metadata)\u001b[0m\n\u001b[1;32m   1131\u001b[0m       return self._do_call(_run_fn, self._session, feed_dict, fetch_list,\n\u001b[0;32m-> 1132\u001b[0;31m                            target_list, options, run_metadata)\n\u001b[0m\u001b[1;32m   1133\u001b[0m     \u001b[0;32melse\u001b[0m\u001b[0;34m:\u001b[0m\u001b[0;34m\u001b[0m\u001b[0m\n",
      "\u001b[0;32m/anaconda/lib/python3.6/site-packages/tensorflow/python/client/session.py\u001b[0m in \u001b[0;36m_do_call\u001b[0;34m(self, fn, *args)\u001b[0m\n\u001b[1;32m   1151\u001b[0m           \u001b[0;32mpass\u001b[0m\u001b[0;34m\u001b[0m\u001b[0m\n\u001b[0;32m-> 1152\u001b[0;31m       \u001b[0;32mraise\u001b[0m \u001b[0mtype\u001b[0m\u001b[0;34m(\u001b[0m\u001b[0me\u001b[0m\u001b[0;34m)\u001b[0m\u001b[0;34m(\u001b[0m\u001b[0mnode_def\u001b[0m\u001b[0;34m,\u001b[0m \u001b[0mop\u001b[0m\u001b[0;34m,\u001b[0m \u001b[0mmessage\u001b[0m\u001b[0;34m)\u001b[0m\u001b[0;34m\u001b[0m\u001b[0m\n\u001b[0m\u001b[1;32m   1153\u001b[0m \u001b[0;34m\u001b[0m\u001b[0m\n",
      "\u001b[0;31mNotFoundError\u001b[0m: ./save/0\n\t [[Node: save_2/SaveV2 = SaveV2[dtypes=[DT_FLOAT, DT_FLOAT, DT_FLOAT, DT_FLOAT, DT_FLOAT, DT_FLOAT, DT_FLOAT, DT_FLOAT, DT_FLOAT, DT_FLOAT, DT_FLOAT, DT_FLOAT, DT_FLOAT, DT_FLOAT, DT_FLOAT], _device=\"/job:localhost/replica:0/task:0/cpu:0\"](_arg_save_2/Const_0_0, save_2/SaveV2/tensor_names, save_2/SaveV2/shape_and_slices, EmbedSequence/embeddings, EmbedSequence/embeddings/Adadelta, EmbedSequence/embeddings/Adadelta_1, fully_connected/biases, fully_connected/biases/Adadelta, fully_connected/biases/Adadelta_1, fully_connected/weights, fully_connected/weights/Adadelta, fully_connected/weights/Adadelta_1, rnn/multi_rnn_cell/cell_0/basic_lstm_cell/bias, rnn/multi_rnn_cell/cell_0/basic_lstm_cell/bias/Adadelta, rnn/multi_rnn_cell/cell_0/basic_lstm_cell/bias/Adadelta_1, rnn/multi_rnn_cell/cell_0/basic_lstm_cell/kernel, rnn/multi_rnn_cell/cell_0/basic_lstm_cell/kernel/Adadelta, rnn/multi_rnn_cell/cell_0/basic_lstm_cell/kernel/Adadelta_1)]]\n\nCaused by op 'save_2/SaveV2', defined at:\n  File \"/anaconda/lib/python3.6/runpy.py\", line 193, in _run_module_as_main\n    \"__main__\", mod_spec)\n  File \"/anaconda/lib/python3.6/runpy.py\", line 85, in _run_code\n    exec(code, run_globals)\n  File \"/anaconda/lib/python3.6/site-packages/ipykernel_launcher.py\", line 16, in <module>\n    app.launch_new_instance()\n  File \"/anaconda/lib/python3.6/site-packages/traitlets/config/application.py\", line 658, in launch_instance\n    app.start()\n  File \"/anaconda/lib/python3.6/site-packages/ipykernel/kernelapp.py\", line 477, in start\n    ioloop.IOLoop.instance().start()\n  File \"/anaconda/lib/python3.6/site-packages/zmq/eventloop/ioloop.py\", line 177, in start\n    super(ZMQIOLoop, self).start()\n  File \"/anaconda/lib/python3.6/site-packages/tornado/ioloop.py\", line 888, in start\n    handler_func(fd_obj, events)\n  File \"/anaconda/lib/python3.6/site-packages/tornado/stack_context.py\", line 277, in null_wrapper\n    return fn(*args, **kwargs)\n  File \"/anaconda/lib/python3.6/site-packages/zmq/eventloop/zmqstream.py\", line 440, in _handle_events\n    self._handle_recv()\n  File \"/anaconda/lib/python3.6/site-packages/zmq/eventloop/zmqstream.py\", line 472, in _handle_recv\n    self._run_callback(callback, msg)\n  File \"/anaconda/lib/python3.6/site-packages/zmq/eventloop/zmqstream.py\", line 414, in _run_callback\n    callback(*args, **kwargs)\n  File \"/anaconda/lib/python3.6/site-packages/tornado/stack_context.py\", line 277, in null_wrapper\n    return fn(*args, **kwargs)\n  File \"/anaconda/lib/python3.6/site-packages/ipykernel/kernelbase.py\", line 283, in dispatcher\n    return self.dispatch_shell(stream, msg)\n  File \"/anaconda/lib/python3.6/site-packages/ipykernel/kernelbase.py\", line 235, in dispatch_shell\n    handler(stream, idents, msg)\n  File \"/anaconda/lib/python3.6/site-packages/ipykernel/kernelbase.py\", line 399, in execute_request\n    user_expressions, allow_stdin)\n  File \"/anaconda/lib/python3.6/site-packages/ipykernel/ipkernel.py\", line 196, in do_execute\n    res = shell.run_cell(code, store_history=store_history, silent=silent)\n  File \"/anaconda/lib/python3.6/site-packages/ipykernel/zmqshell.py\", line 533, in run_cell\n    return super(ZMQInteractiveShell, self).run_cell(*args, **kwargs)\n  File \"/anaconda/lib/python3.6/site-packages/IPython/core/interactiveshell.py\", line 2698, in run_cell\n    interactivity=interactivity, compiler=compiler, result=result)\n  File \"/anaconda/lib/python3.6/site-packages/IPython/core/interactiveshell.py\", line 2802, in run_ast_nodes\n    if self.run_code(code, result):\n  File \"/anaconda/lib/python3.6/site-packages/IPython/core/interactiveshell.py\", line 2862, in run_code\n    exec(code_obj, self.user_global_ns, self.user_ns)\n  File \"<ipython-input-105-a54af30c1844>\", line 34, in <module>\n    saver = tf.train.Saver()\n  File \"/anaconda/lib/python3.6/site-packages/tensorflow/python/training/saver.py\", line 1139, in __init__\n    self.build()\n  File \"/anaconda/lib/python3.6/site-packages/tensorflow/python/training/saver.py\", line 1170, in build\n    restore_sequentially=self._restore_sequentially)\n  File \"/anaconda/lib/python3.6/site-packages/tensorflow/python/training/saver.py\", line 689, in build\n    save_tensor = self._AddSaveOps(filename_tensor, saveables)\n  File \"/anaconda/lib/python3.6/site-packages/tensorflow/python/training/saver.py\", line 276, in _AddSaveOps\n    save = self.save_op(filename_tensor, saveables)\n  File \"/anaconda/lib/python3.6/site-packages/tensorflow/python/training/saver.py\", line 219, in save_op\n    tensors)\n  File \"/anaconda/lib/python3.6/site-packages/tensorflow/python/ops/gen_io_ops.py\", line 745, in save_v2\n    tensors=tensors, name=name)\n  File \"/anaconda/lib/python3.6/site-packages/tensorflow/python/framework/op_def_library.py\", line 767, in apply_op\n    op_def=op_def)\n  File \"/anaconda/lib/python3.6/site-packages/tensorflow/python/framework/ops.py\", line 2506, in create_op\n    original_op=self._default_original_op, op_def=op_def)\n  File \"/anaconda/lib/python3.6/site-packages/tensorflow/python/framework/ops.py\", line 1269, in __init__\n    self._traceback = _extract_stack()\n\nNotFoundError (see above for traceback): ./save/0\n\t [[Node: save_2/SaveV2 = SaveV2[dtypes=[DT_FLOAT, DT_FLOAT, DT_FLOAT, DT_FLOAT, DT_FLOAT, DT_FLOAT, DT_FLOAT, DT_FLOAT, DT_FLOAT, DT_FLOAT, DT_FLOAT, DT_FLOAT, DT_FLOAT, DT_FLOAT, DT_FLOAT], _device=\"/job:localhost/replica:0/task:0/cpu:0\"](_arg_save_2/Const_0_0, save_2/SaveV2/tensor_names, save_2/SaveV2/shape_and_slices, EmbedSequence/embeddings, EmbedSequence/embeddings/Adadelta, EmbedSequence/embeddings/Adadelta_1, fully_connected/biases, fully_connected/biases/Adadelta, fully_connected/biases/Adadelta_1, fully_connected/weights, fully_connected/weights/Adadelta, fully_connected/weights/Adadelta_1, rnn/multi_rnn_cell/cell_0/basic_lstm_cell/bias, rnn/multi_rnn_cell/cell_0/basic_lstm_cell/bias/Adadelta, rnn/multi_rnn_cell/cell_0/basic_lstm_cell/bias/Adadelta_1, rnn/multi_rnn_cell/cell_0/basic_lstm_cell/kernel, rnn/multi_rnn_cell/cell_0/basic_lstm_cell/kernel/Adadelta, rnn/multi_rnn_cell/cell_0/basic_lstm_cell/kernel/Adadelta_1)]]\n",
      "\nDuring handling of the above exception, another exception occurred:\n",
      "\u001b[0;31mValueError\u001b[0m                                Traceback (most recent call last)",
      "\u001b[0;32m<ipython-input-105-a54af30c1844>\u001b[0m in \u001b[0;36m<module>\u001b[0;34m()\u001b[0m\n\u001b[1;32m     33\u001b[0m             \u001b[0;31m# save model\u001b[0m\u001b[0;34m\u001b[0m\u001b[0;34m\u001b[0m\u001b[0m\n\u001b[1;32m     34\u001b[0m             \u001b[0msaver\u001b[0m \u001b[0;34m=\u001b[0m \u001b[0mtf\u001b[0m\u001b[0;34m.\u001b[0m\u001b[0mtrain\u001b[0m\u001b[0;34m.\u001b[0m\u001b[0mSaver\u001b[0m\u001b[0;34m(\u001b[0m\u001b[0;34m)\u001b[0m\u001b[0;34m\u001b[0m\u001b[0m\n\u001b[0;32m---> 35\u001b[0;31m             \u001b[0msaver\u001b[0m\u001b[0;34m.\u001b[0m\u001b[0msave\u001b[0m\u001b[0;34m(\u001b[0m\u001b[0msess\u001b[0m\u001b[0;34m,\u001b[0m \u001b[0msave_dir\u001b[0m \u001b[0;34m+\u001b[0m \u001b[0;34m'/'\u001b[0m \u001b[0;34m+\u001b[0m \u001b[0mstr\u001b[0m\u001b[0;34m(\u001b[0m\u001b[0mstep\u001b[0m\u001b[0;34m)\u001b[0m \u001b[0;34m+\u001b[0m \u001b[0;34m'/'\u001b[0m\u001b[0;34m)\u001b[0m\u001b[0;34m\u001b[0m\u001b[0m\n\u001b[0m\u001b[1;32m     36\u001b[0m             \u001b[0mprint\u001b[0m\u001b[0;34m(\u001b[0m\u001b[0;34m'Model Trained and Saved'\u001b[0m\u001b[0;34m)\u001b[0m\u001b[0;34m\u001b[0m\u001b[0m\n",
      "\u001b[0;32m/anaconda/lib/python3.6/site-packages/tensorflow/python/training/saver.py\u001b[0m in \u001b[0;36msave\u001b[0;34m(self, sess, save_path, global_step, latest_filename, meta_graph_suffix, write_meta_graph, write_state)\u001b[0m\n\u001b[1;32m   1486\u001b[0m               \"Parent directory of {} doesn't exist, can't save.\".format(\n\u001b[1;32m   1487\u001b[0m                   save_path))\n\u001b[0;32m-> 1488\u001b[0;31m         \u001b[0;32mraise\u001b[0m \u001b[0mexc\u001b[0m\u001b[0;34m\u001b[0m\u001b[0m\n\u001b[0m\u001b[1;32m   1489\u001b[0m \u001b[0;34m\u001b[0m\u001b[0m\n\u001b[1;32m   1490\u001b[0m     \u001b[0;32mif\u001b[0m \u001b[0mwrite_meta_graph\u001b[0m\u001b[0;34m:\u001b[0m\u001b[0;34m\u001b[0m\u001b[0m\n",
      "\u001b[0;31mValueError\u001b[0m: Parent directory of ./save/0/ doesn't exist, can't save."
     ]
    }
   ],
   "source": [
    "import time\n",
    "\n",
    "with tf.Session(graph=graph) as sess:\n",
    "    \n",
    "    sess.run(tf.global_variables_initializer())\n",
    "    \n",
    "    state = sess.run(initial_state, \\\n",
    "                     {inputs: np.array(train_word_index[:seq_length]).reshape(seq_length, 1)})\n",
    "    \n",
    "    for step in range(num_steps):\n",
    "        x_batches, y_batches = get_batch(train_word_index, num_batches, seq_length)\n",
    "\n",
    "        feed_dict = {\n",
    "            inputs: x_batches,\n",
    "            targets: y_batches,\n",
    "            initial_state: state\n",
    "        }\n",
    "\n",
    "        state, _ = sess.run([final_state, train_op], feed_dict)\n",
    "        \n",
    "        if step % 100 == 0:\n",
    "            train_loss = sess.run(loss, feed_dict)\n",
    "            print(\"Step {} Train Loss {}\".format(step, train_loss))\n",
    "            \n",
    "            x_batches, y_batches = get_batch(eval_word_index, num_batches, seq_length)\n",
    "            feed_dict = {\n",
    "                inputs: x_batches,\n",
    "                targets: y_batches,\n",
    "                initial_state: state\n",
    "            }\n",
    "            eval_loss = sess.run(loss, feed_dict)\n",
    "            print(\"Step {} Evaluation Loss {}\".format(step, eval_loss))\n",
    "            \n",
    "            # save model\n",
    "            saver = tf.train.Saver()\n",
    "            save_path = save_dir + '/' + str(step) + '/'\n",
    "            saver.save(sess, save_path)\n",
    "            print('Model Trained and Saved')"
   ]
  },
  {
   "cell_type": "code",
   "execution_count": null,
   "metadata": {
    "collapsed": true
   },
   "outputs": [],
   "source": []
  }
 ],
 "metadata": {
  "kernelspec": {
   "display_name": "Python 3",
   "language": "python",
   "name": "python3"
  },
  "language_info": {
   "codemirror_mode": {
    "name": "ipython",
    "version": 3
   },
   "file_extension": ".py",
   "mimetype": "text/x-python",
   "name": "python",
   "nbconvert_exporter": "python",
   "pygments_lexer": "ipython3",
   "version": "3.6.2"
  }
 },
 "nbformat": 4,
 "nbformat_minor": 2
}
